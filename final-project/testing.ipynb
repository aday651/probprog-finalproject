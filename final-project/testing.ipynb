{
 "cells": [
  {
   "cell_type": "code",
   "execution_count": 1,
   "metadata": {},
   "outputs": [
    {
     "name": "stderr",
     "output_type": "stream",
     "text": [
      "c:\\users\\andrew\\anaconda3\\envs\\ppp\\lib\\site-packages\\numpy\\core\\fromnumeric.py:3118: RuntimeWarning: Mean of empty slice.\n",
      "  out=out, **kwargs)\n",
      "c:\\users\\andrew\\anaconda3\\envs\\ppp\\lib\\site-packages\\numpy\\core\\_methods.py:85: RuntimeWarning: invalid value encountered in double_scalars\n",
      "  ret = ret.dtype.type(ret / rcount)\n",
      "c:\\users\\andrew\\anaconda3\\envs\\ppp\\lib\\site-packages\\numpy\\core\\_methods.py:140: RuntimeWarning: Degrees of freedom <= 0 for slice\n",
      "  keepdims=keepdims)\n",
      "c:\\users\\andrew\\anaconda3\\envs\\ppp\\lib\\site-packages\\numpy\\core\\_methods.py:110: RuntimeWarning: invalid value encountered in true_divide\n",
      "  arrmean, rcount, out=arrmean, casting='unsafe', subok=False)\n",
      "c:\\users\\andrew\\anaconda3\\envs\\ppp\\lib\\site-packages\\numpy\\core\\_methods.py:132: RuntimeWarning: invalid value encountered in double_scalars\n",
      "  ret = ret.dtype.type(ret / rcount)\n"
     ]
    }
   ],
   "source": [
    "from bitcoin import BitcoinOTC\n",
    "\n",
    "data = BitcoinOTC()"
   ]
  },
  {
   "cell_type": "code",
   "execution_count": 23,
   "metadata": {},
   "outputs": [],
   "source": [
    "data = BitcoinOTC()\n",
    "\n",
    "r = data.in_weight_avg[data.nodes_train] - 0.5\n",
    "sdg = 2*data.out_weight_std[data.nodes_train]\n",
    "sdg[sdg != sdg] = 0 \n",
    "sdr = 2*data.in_weight_std[data.nodes_train]\n",
    "sdt = torch.log(data.rate_time_out_std[data.nodes_train] + 1)\n",
    "sdt = sdt/sdt.max()\n",
    "gt = data.gt[data.nodes_train]"
   ]
  },
  {
   "cell_type": "code",
   "execution_count": 24,
   "metadata": {},
   "outputs": [
    {
     "name": "stdout",
     "output_type": "stream",
     "text": [
      "tensor([4.2032e-01, 1.5518e-01, 1.5831e-01, 7.5920e-02, 4.9487e-02, 0.0000e+00,\n",
      "        0.0000e+00, 2.8654e-01, 1.4846e-01, 5.5498e-01, 0.0000e+00, 2.6136e-01,\n",
      "        0.0000e+00, 0.0000e+00, 0.0000e+00, 3.7681e-01, 3.8073e-01, 0.0000e+00,\n",
      "        6.1211e-01, 0.0000e+00, 4.5344e-01, 0.0000e+00, 4.6450e-01, 0.0000e+00,\n",
      "        1.2990e-01, 0.0000e+00, 0.0000e+00, 8.0000e-02, 4.4338e-01, 5.0213e-01,\n",
      "        1.2472e-01, 1.7314e-01, 0.0000e+00, 6.4309e-01, 2.1315e-01, 4.4265e-01,\n",
      "        3.4293e-01, 0.0000e+00, 1.2344e-01, 0.0000e+00, 4.1666e-01, 7.2742e-01,\n",
      "        0.0000e+00, 1.0128e-01, 0.0000e+00, 2.3854e-01, 3.0912e-01, 0.0000e+00,\n",
      "        1.4487e-01, 6.1616e-01, 0.0000e+00, 0.0000e+00, 0.0000e+00, 2.6921e-01,\n",
      "        0.0000e+00, 0.0000e+00, 1.4142e-01, 0.0000e+00, 5.2158e-01, 2.0689e-01,\n",
      "        2.6731e-01, 2.8586e-01, 1.6026e-01, 0.0000e+00, 1.6394e-01, 0.0000e+00,\n",
      "        0.0000e+00, 0.0000e+00, 8.6603e-02, 4.7631e-01, 2.4596e-01, 2.2550e-01,\n",
      "        1.4200e-01, 3.0293e-01, 0.0000e+00, 5.9096e-01, 1.6997e-01, 3.5722e-01,\n",
      "        1.1055e-01, 2.2204e-16, 0.0000e+00, 2.5978e-01, 1.4697e-01, 0.0000e+00,\n",
      "        0.0000e+00, 8.3148e-01, 0.0000e+00, 9.4281e-02, 1.5000e-01, 0.0000e+00,\n",
      "        4.3301e-02, 0.0000e+00, 2.7348e-01, 4.8735e-01, 2.2204e-16, 0.0000e+00,\n",
      "        2.4165e-01, 0.0000e+00, 9.0351e-01, 4.6595e-01, 1.6997e-01, 1.5779e-01,\n",
      "        3.5513e-01, 7.3284e-01, 3.6968e-01, 0.0000e+00, 1.3361e-01, 5.1854e-01,\n",
      "        2.8997e-01, 3.9025e-01, 1.6000e-01, 1.6000e-01, 0.0000e+00, 0.0000e+00,\n",
      "        0.0000e+00, 1.7889e-01, 1.1149e-01, 2.6907e-01, 5.0000e-02, 0.0000e+00,\n",
      "        0.0000e+00, 4.8990e-01, 3.7711e-01, 8.5696e-02, 6.1029e-02, 1.7924e-01,\n",
      "        3.5000e-01, 2.4495e-01, 0.0000e+00, 6.8781e-01, 5.6981e-01, 3.5965e-01,\n",
      "        4.4573e-01, 0.0000e+00, 0.0000e+00, 0.0000e+00, 0.0000e+00, 0.0000e+00,\n",
      "        0.0000e+00, 3.7454e-01, 7.4536e-01, 4.3598e-01, 3.0984e-01, 0.0000e+00,\n",
      "        2.5723e-01, 4.0000e-02, 2.9966e-01, 4.7316e-01, 1.3742e-01, 0.0000e+00,\n",
      "        1.2472e-01, 0.0000e+00, 4.9690e-02, 9.6825e-01, 0.0000e+00, 0.0000e+00,\n",
      "        1.3333e-01, 1.2649e-01, 2.0615e-01, 4.5089e-01, 3.2830e-01, 2.0052e-01,\n",
      "        0.0000e+00, 0.0000e+00, 1.0000e-01, 4.7673e-01, 7.0396e-01, 0.0000e+00,\n",
      "        3.4030e-01, 1.7321e-01, 4.2426e-01, 0.0000e+00, 0.0000e+00, 2.9439e-01,\n",
      "        2.3579e-01, 2.6891e-01, 5.1087e-01, 3.5000e-01, 0.0000e+00, 5.0000e-02,\n",
      "        4.7631e-01, 0.0000e+00, 0.0000e+00, 1.6000e-01, 0.0000e+00, 1.8757e-01,\n",
      "        1.1662e-01, 2.4495e-01, 0.0000e+00, 1.9176e-01, 2.2524e-01, 2.9439e-01,\n",
      "        0.0000e+00, 1.1657e-01, 8.9072e-01, 0.0000e+00, 0.0000e+00, 1.8928e-01,\n",
      "        0.0000e+00, 7.9347e-01])\n"
     ]
    }
   ],
   "source": [
    "print(sdg)"
   ]
  }
 ],
 "metadata": {
  "kernelspec": {
   "display_name": "Python 3",
   "language": "python",
   "name": "python3"
  },
  "language_info": {
   "codemirror_mode": {
    "name": "ipython",
    "version": 3
   },
   "file_extension": ".py",
   "mimetype": "text/x-python",
   "name": "python",
   "nbconvert_exporter": "python",
   "pygments_lexer": "ipython3",
   "version": "3.7.4"
  }
 },
 "nbformat": 4,
 "nbformat_minor": 4
}
