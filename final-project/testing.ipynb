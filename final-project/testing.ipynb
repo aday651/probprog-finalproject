{
 "cells": [
  {
   "cell_type": "code",
   "execution_count": 1,
   "metadata": {},
   "outputs": [
    {
     "name": "stderr",
     "output_type": "stream",
     "text": [
      "c:\\users\\andrew\\anaconda3\\envs\\ppp\\lib\\site-packages\\numpy\\core\\fromnumeric.py:3118: RuntimeWarning: Mean of empty slice.\n",
      "  out=out, **kwargs)\n",
      "c:\\users\\andrew\\anaconda3\\envs\\ppp\\lib\\site-packages\\numpy\\core\\_methods.py:85: RuntimeWarning: invalid value encountered in double_scalars\n",
      "  ret = ret.dtype.type(ret / rcount)\n",
      "c:\\users\\andrew\\anaconda3\\envs\\ppp\\lib\\site-packages\\numpy\\core\\_methods.py:140: RuntimeWarning: Degrees of freedom <= 0 for slice\n",
      "  keepdims=keepdims)\n",
      "c:\\users\\andrew\\anaconda3\\envs\\ppp\\lib\\site-packages\\numpy\\core\\_methods.py:110: RuntimeWarning: invalid value encountered in true_divide\n",
      "  arrmean, rcount, out=arrmean, casting='unsafe', subok=False)\n",
      "c:\\users\\andrew\\anaconda3\\envs\\ppp\\lib\\site-packages\\numpy\\core\\_methods.py:132: RuntimeWarning: invalid value encountered in double_scalars\n",
      "  ret = ret.dtype.type(ret / rcount)\n"
     ]
    }
   ],
   "source": [
    "from bitcoin import BitcoinOTC\n",
    "\n",
    "data = BitcoinOTC()"
   ]
  },
  {
   "cell_type": "code",
   "execution_count": 6,
   "metadata": {},
   "outputs": [],
   "source": [
    "%load_ext autoreload\n",
    "%autoreload 1"
   ]
  },
  {
   "cell_type": "code",
   "execution_count": 10,
   "metadata": {},
   "outputs": [
    {
     "data": {
      "text/plain": [
       "tensor([ 1,  1,  1,  ..., -1, -1, -1])"
      ]
     },
     "execution_count": 10,
     "metadata": {},
     "output_type": "execute_result"
    }
   ],
   "source": [
    "%aimport bayes\n",
    "%aimport bitcoin\n",
    "%aimport roc\n",
    "import torch\n",
    "import numpy as np\n",
    "\n",
    "# Comment out the appriopate line depending on testing/running full model\n",
    "hmc_arg_dict = {'model_num': 1, 'num_samples': 50, 'warmup_steps': 10}\n",
    "\n",
    "data = bitcoin.BitcoinOTC()\n",
    "\n",
    "r = data.in_weight_avg - 0.5\n",
    "sdg = 2*data.out_weight_std\n",
    "sdr = 2*data.in_weight_std\n",
    "sdt = torch.log(data.rate_time_out_std + 1)\n",
    "sdt = sdt/sdt.max()\n",
    "gt = data.gt\n",
    "gt.type()"
   ]
  },
  {
   "cell_type": "code",
   "execution_count": 11,
   "metadata": {},
   "outputs": [
    {
     "data": {
      "text/plain": [
       "'torch.LongTensor'"
      ]
     },
     "execution_count": 11,
     "metadata": {},
     "output_type": "execute_result"
    }
   ],
   "source": [
    "gt.type()"
   ]
  },
  {
   "cell_type": "code",
   "execution_count": 12,
   "metadata": {},
   "outputs": [
    {
     "name": "stderr",
     "output_type": "stream",
     "text": [
      "sample: 100%|█████████████████████████████████████| 60/60 [00:07<00:00,  8.43it/s, step size=1.67e-01, acc. prob=0.973]\n"
     ]
    },
    {
     "name": "stdout",
     "output_type": "stream",
     "text": [
      "Site: beta_r\n",
      "      mean       std        5%       25%       50%       75%       95%\n",
      "0  5.38047  0.545281  4.693684  4.963559  5.312123  5.715663  6.263716 \n",
      "\n",
      "Site: beta_sdg\n",
      "       mean       std        5%       25%       50%       75%       95%\n",
      "0  0.571111  0.565308 -0.151558  0.146753  0.492288  0.954808  1.562239 \n",
      "\n",
      "Site: beta_sdr\n",
      "       mean       std        5%       25%       50%       75%       95%\n",
      "0 -2.758705  0.610293 -3.612487 -3.257755 -2.653099 -2.270247 -1.757023 \n",
      "\n",
      "Site: beta_sdt\n",
      "       mean      std        5%       25%       50%      75%       95%\n",
      "0  2.209671  0.39164  1.655321  1.930682  2.150838  2.48214  2.914072 \n",
      "\n",
      "[[ 6.158643    5.6325245   5.4395986   4.9554467   4.746177    5.40388\n",
      "   5.8051534   5.8852983   5.619332    5.353796    5.5485954   4.938977\n",
      "   5.1276655   4.856272    4.8861203   4.9567914   4.921886    5.074445\n",
      "   5.251211    5.699226    5.7211423   5.996157    5.8878284   4.694466\n",
      "   6.459554    5.881423    5.2470927   5.336232    4.7594256   5.200786\n",
      "   5.0014467   4.405716    5.0880904   5.0784435   5.6769676   5.288014\n",
      "   4.6930437   6.3139896   5.403985    5.1781187   5.106964    5.348998\n",
      "   6.2022696   6.9429016   4.3425612   5.863068    6.1868005   4.983861\n",
      "   4.8959284   5.5771375 ]\n",
      " [ 0.53210795  1.2667469   1.1848114  -0.10925479  0.13497384  0.35653546\n",
      "   0.06267381  0.24181646  1.5327723   0.09825248  0.8238325   0.58661556\n",
      "   1.2418743   0.9151048   0.21956405  0.45953032  0.14284867  0.28980613\n",
      "   0.48727325  0.4973021   0.52372515  0.46149373  0.7968776   1.3362241\n",
      "   0.22810826 -0.10742445  0.5497588   0.8474381   0.15687723  0.14337859\n",
      "   0.38622952  1.1665545   0.54282594  1.5173869   0.73076993 -0.00718462\n",
      "  -0.27742004  1.8106096   1.6121824   0.96804285  0.6250008  -0.03204526\n",
      "   0.41981614  1.1377769  -0.18616891  0.22993933 -0.78228444  1.0882838\n",
      "   1.586348    0.11722913]\n",
      " [-3.0581834  -3.4814944  -3.7427163  -2.2212114  -2.5909138  -2.5665138\n",
      "  -2.5084298  -2.245381   -2.5355296  -2.1296191  -3.596248   -2.7446268\n",
      "  -2.2394388  -3.0198147  -2.877161   -3.0282433  -2.3848708  -2.6228285\n",
      "  -3.2223005  -3.2648773  -3.2363899  -3.6257737  -2.7842727  -2.203491\n",
      "  -2.573608   -2.544936   -2.664919   -2.6412783  -1.5391492  -1.7268082\n",
      "  -1.9338884  -3.584196   -3.3609695  -3.6754477  -3.442739   -2.344843\n",
      "  -2.2095056  -2.9938185  -3.5521567  -3.414987   -1.793952   -2.5571659\n",
      "  -3.5566463  -3.5414069  -1.3060555  -2.2272952  -3.202834   -2.5070012\n",
      "  -2.1894062  -2.9199104 ]\n",
      " [ 1.7598006   2.9845355   2.61372     2.1494024   2.3569474   2.180468\n",
      "   2.2476144   2.2764864   2.0901802   1.7181269   3.0786588   1.7735505\n",
      "   2.074618    2.0035691   1.9258697   1.7664472   2.6825573   2.5603442\n",
      "   2.6370873   1.9997163   2.069804    2.8625474   1.8698406   1.6039339\n",
      "   2.4566336   2.0676801   2.3196247   2.4839158   1.4401367   2.3158314\n",
      "   2.274164    2.5687935   2.0920296   1.9197042   2.9562283   2.2451015\n",
      "   2.061956    1.7318401   2.046764    2.407456    1.5663582   2.476814\n",
      "   2.6302679   2.571721    1.7191727   2.1109116   2.7977548   1.9451202\n",
      "   1.8394856   2.1522746 ]]\n"
     ]
    }
   ],
   "source": [
    "# Run MCMC to get draws from the posterior distribution for the regression coefs\n",
    "hmc_samples = bayes.bayes_logistic_reg(**hmc_arg_dict)\n",
    "\n",
    "reg_coefs = []\n",
    "for value in hmc_samples.values():\n",
    "    reg_coefs.append(value)\n",
    "    \n",
    "reg_coefs = np.array(reg_coefs)\n",
    "print(reg_coefs)\n",
    "    "
   ]
  },
  {
   "cell_type": "code",
   "execution_count": 14,
   "metadata": {},
   "outputs": [
    {
     "data": {
      "text/plain": [
       "(4, 50)"
      ]
     },
     "execution_count": 14,
     "metadata": {},
     "output_type": "execute_result"
    }
   ],
   "source": [
    "reg_coefs.shape"
   ]
  },
  {
   "cell_type": "code",
   "execution_count": 23,
   "metadata": {},
   "outputs": [],
   "source": [
    "data = BitcoinOTC()\n",
    "\n",
    "r = data.in_weight_avg[data.nodes_train] - 0.5\n",
    "sdg = 2*data.out_weight_std[data.nodes_train]\n",
    "sdg[sdg != sdg] = 0 \n",
    "sdr = 2*data.in_weight_std[data.nodes_train]\n",
    "sdt = torch.log(data.rate_time_out_std[data.nodes_train] + 1)\n",
    "sdt = sdt/sdt.max()\n",
    "gt = data.gt[data.nodes_train]"
   ]
  },
  {
   "cell_type": "code",
   "execution_count": 24,
   "metadata": {},
   "outputs": [
    {
     "name": "stdout",
     "output_type": "stream",
     "text": [
      "tensor([4.2032e-01, 1.5518e-01, 1.5831e-01, 7.5920e-02, 4.9487e-02, 0.0000e+00,\n",
      "        0.0000e+00, 2.8654e-01, 1.4846e-01, 5.5498e-01, 0.0000e+00, 2.6136e-01,\n",
      "        0.0000e+00, 0.0000e+00, 0.0000e+00, 3.7681e-01, 3.8073e-01, 0.0000e+00,\n",
      "        6.1211e-01, 0.0000e+00, 4.5344e-01, 0.0000e+00, 4.6450e-01, 0.0000e+00,\n",
      "        1.2990e-01, 0.0000e+00, 0.0000e+00, 8.0000e-02, 4.4338e-01, 5.0213e-01,\n",
      "        1.2472e-01, 1.7314e-01, 0.0000e+00, 6.4309e-01, 2.1315e-01, 4.4265e-01,\n",
      "        3.4293e-01, 0.0000e+00, 1.2344e-01, 0.0000e+00, 4.1666e-01, 7.2742e-01,\n",
      "        0.0000e+00, 1.0128e-01, 0.0000e+00, 2.3854e-01, 3.0912e-01, 0.0000e+00,\n",
      "        1.4487e-01, 6.1616e-01, 0.0000e+00, 0.0000e+00, 0.0000e+00, 2.6921e-01,\n",
      "        0.0000e+00, 0.0000e+00, 1.4142e-01, 0.0000e+00, 5.2158e-01, 2.0689e-01,\n",
      "        2.6731e-01, 2.8586e-01, 1.6026e-01, 0.0000e+00, 1.6394e-01, 0.0000e+00,\n",
      "        0.0000e+00, 0.0000e+00, 8.6603e-02, 4.7631e-01, 2.4596e-01, 2.2550e-01,\n",
      "        1.4200e-01, 3.0293e-01, 0.0000e+00, 5.9096e-01, 1.6997e-01, 3.5722e-01,\n",
      "        1.1055e-01, 2.2204e-16, 0.0000e+00, 2.5978e-01, 1.4697e-01, 0.0000e+00,\n",
      "        0.0000e+00, 8.3148e-01, 0.0000e+00, 9.4281e-02, 1.5000e-01, 0.0000e+00,\n",
      "        4.3301e-02, 0.0000e+00, 2.7348e-01, 4.8735e-01, 2.2204e-16, 0.0000e+00,\n",
      "        2.4165e-01, 0.0000e+00, 9.0351e-01, 4.6595e-01, 1.6997e-01, 1.5779e-01,\n",
      "        3.5513e-01, 7.3284e-01, 3.6968e-01, 0.0000e+00, 1.3361e-01, 5.1854e-01,\n",
      "        2.8997e-01, 3.9025e-01, 1.6000e-01, 1.6000e-01, 0.0000e+00, 0.0000e+00,\n",
      "        0.0000e+00, 1.7889e-01, 1.1149e-01, 2.6907e-01, 5.0000e-02, 0.0000e+00,\n",
      "        0.0000e+00, 4.8990e-01, 3.7711e-01, 8.5696e-02, 6.1029e-02, 1.7924e-01,\n",
      "        3.5000e-01, 2.4495e-01, 0.0000e+00, 6.8781e-01, 5.6981e-01, 3.5965e-01,\n",
      "        4.4573e-01, 0.0000e+00, 0.0000e+00, 0.0000e+00, 0.0000e+00, 0.0000e+00,\n",
      "        0.0000e+00, 3.7454e-01, 7.4536e-01, 4.3598e-01, 3.0984e-01, 0.0000e+00,\n",
      "        2.5723e-01, 4.0000e-02, 2.9966e-01, 4.7316e-01, 1.3742e-01, 0.0000e+00,\n",
      "        1.2472e-01, 0.0000e+00, 4.9690e-02, 9.6825e-01, 0.0000e+00, 0.0000e+00,\n",
      "        1.3333e-01, 1.2649e-01, 2.0615e-01, 4.5089e-01, 3.2830e-01, 2.0052e-01,\n",
      "        0.0000e+00, 0.0000e+00, 1.0000e-01, 4.7673e-01, 7.0396e-01, 0.0000e+00,\n",
      "        3.4030e-01, 1.7321e-01, 4.2426e-01, 0.0000e+00, 0.0000e+00, 2.9439e-01,\n",
      "        2.3579e-01, 2.6891e-01, 5.1087e-01, 3.5000e-01, 0.0000e+00, 5.0000e-02,\n",
      "        4.7631e-01, 0.0000e+00, 0.0000e+00, 1.6000e-01, 0.0000e+00, 1.8757e-01,\n",
      "        1.1662e-01, 2.4495e-01, 0.0000e+00, 1.9176e-01, 2.2524e-01, 2.9439e-01,\n",
      "        0.0000e+00, 1.1657e-01, 8.9072e-01, 0.0000e+00, 0.0000e+00, 1.8928e-01,\n",
      "        0.0000e+00, 7.9347e-01])\n"
     ]
    }
   ],
   "source": [
    "print(sdg)"
   ]
  }
 ],
 "metadata": {
  "kernelspec": {
   "display_name": "Python 3",
   "language": "python",
   "name": "python3"
  },
  "language_info": {
   "codemirror_mode": {
    "name": "ipython",
    "version": 3
   },
   "file_extension": ".py",
   "mimetype": "text/x-python",
   "name": "python",
   "nbconvert_exporter": "python",
   "pygments_lexer": "ipython3",
   "version": "3.7.4"
  }
 },
 "nbformat": 4,
 "nbformat_minor": 4
}
