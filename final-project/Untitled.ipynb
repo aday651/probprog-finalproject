{
 "cells": [
  {
   "cell_type": "code",
   "execution_count": 3,
   "metadata": {},
   "outputs": [],
   "source": [
    "import torch"
   ]
  },
  {
   "cell_type": "code",
   "execution_count": 13,
   "metadata": {},
   "outputs": [
    {
     "name": "stdout",
     "output_type": "stream",
     "text": [
      "tensor([], dtype=torch.int64)\n",
      "0\n"
     ]
    }
   ],
   "source": [
    "a = torch.tensor([1, 2])\n",
    "b = torch.tensor([3, 4])\n",
    "\n",
    "c = torch.where(a == 3)[0]\n",
    "print(c)\n",
    "print(list(c.shape)[0])"
   ]
  },
  {
   "cell_type": "code",
   "execution_count": 1,
   "metadata": {},
   "outputs": [
    {
     "name": "stderr",
     "output_type": "stream",
     "text": [
      "c:\\users\\andrew\\anaconda3\\envs\\ppp\\lib\\site-packages\\numpy\\core\\fromnumeric.py:3118: RuntimeWarning: Mean of empty slice.\n",
      "  out=out, **kwargs)\n",
      "c:\\users\\andrew\\anaconda3\\envs\\ppp\\lib\\site-packages\\numpy\\core\\_methods.py:85: RuntimeWarning: invalid value encountered in double_scalars\n",
      "  ret = ret.dtype.type(ret / rcount)\n",
      "c:\\users\\andrew\\anaconda3\\envs\\ppp\\lib\\site-packages\\numpy\\core\\_methods.py:140: RuntimeWarning: Degrees of freedom <= 0 for slice\n",
      "  keepdims=keepdims)\n",
      "c:\\users\\andrew\\anaconda3\\envs\\ppp\\lib\\site-packages\\numpy\\core\\_methods.py:110: RuntimeWarning: invalid value encountered in true_divide\n",
      "  arrmean, rcount, out=arrmean, casting='unsafe', subok=False)\n",
      "c:\\users\\andrew\\anaconda3\\envs\\ppp\\lib\\site-packages\\numpy\\core\\_methods.py:132: RuntimeWarning: invalid value encountered in double_scalars\n",
      "  ret = ret.dtype.type(ret / rcount)\n"
     ]
    },
    {
     "data": {
      "text/plain": [
       "6005"
      ]
     },
     "execution_count": 1,
     "metadata": {},
     "output_type": "execute_result"
    }
   ],
   "source": [
    "import bitcoin\n",
    "\n",
    "data = bitcoin.BitcoinOTC()\n",
    "\n",
    "data."
   ]
  },
  {
   "cell_type": "code",
   "execution_count": 10,
   "metadata": {},
   "outputs": [
    {
     "data": {
      "text/plain": [
       "'torch.FloatTensor'"
      ]
     },
     "execution_count": 10,
     "metadata": {},
     "output_type": "execute_result"
    }
   ],
   "source": [
    "a = torch.distributions.Bernoulli(logits=torch.tensor(-2.0))\n",
    "\n",
    "b = a.sample()\n",
    "b.type()"
   ]
  },
  {
   "cell_type": "code",
   "execution_count": 9,
   "metadata": {},
   "outputs": [
    {
     "name": "stderr",
     "output_type": "stream",
     "text": [
      "c:\\users\\andrew\\anaconda3\\envs\\ppp\\lib\\site-packages\\numpy\\core\\fromnumeric.py:3118: RuntimeWarning: Mean of empty slice.\n",
      "  out=out, **kwargs)\n",
      "c:\\users\\andrew\\anaconda3\\envs\\ppp\\lib\\site-packages\\numpy\\core\\_methods.py:85: RuntimeWarning: invalid value encountered in double_scalars\n",
      "  ret = ret.dtype.type(ret / rcount)\n",
      "c:\\users\\andrew\\anaconda3\\envs\\ppp\\lib\\site-packages\\numpy\\core\\_methods.py:140: RuntimeWarning: Degrees of freedom <= 0 for slice\n",
      "  keepdims=keepdims)\n",
      "c:\\users\\andrew\\anaconda3\\envs\\ppp\\lib\\site-packages\\numpy\\core\\_methods.py:110: RuntimeWarning: invalid value encountered in true_divide\n",
      "  arrmean, rcount, out=arrmean, casting='unsafe', subok=False)\n",
      "c:\\users\\andrew\\anaconda3\\envs\\ppp\\lib\\site-packages\\numpy\\core\\_methods.py:132: RuntimeWarning: invalid value encountered in double_scalars\n",
      "  ret = ret.dtype.type(ret / rcount)\n"
     ]
    }
   ],
   "source": [
    "import bitcoin\n",
    "\n",
    "data = bitcoin.BitcoinOTC()"
   ]
  },
  {
   "cell_type": "code",
   "execution_count": 25,
   "metadata": {},
   "outputs": [
    {
     "data": {
      "text/plain": [
       "tensor([[8, 5],\n",
       "        [3, 1]])"
      ]
     },
     "execution_count": 25,
     "metadata": {},
     "output_type": "execute_result"
    }
   ],
   "source": [
    "a = torch.tensor([[10, 5, 8],[2, 1, 3]])\n",
    "a.index_select(-1, torch.tensor([2, 1]))"
   ]
  },
  {
   "cell_type": "code",
   "execution_count": 6,
   "metadata": {},
   "outputs": [
    {
     "data": {
      "text/plain": [
       "torch.Size([3, 2])"
      ]
     },
     "execution_count": 6,
     "metadata": {},
     "output_type": "execute_result"
    }
   ],
   "source": [
    "b = torch.Tensor([[1,2],[3,4],[5,6]])\n",
    "b.shape"
   ]
  },
  {
   "cell_type": "code",
   "execution_count": 8,
   "metadata": {},
   "outputs": [
    {
     "data": {
      "text/plain": [
       "[2, 3, 1, 2, 3]"
      ]
     },
     "execution_count": 8,
     "metadata": {},
     "output_type": "execute_result"
    }
   ],
   "source": [
    "import numpy as np\n",
    "\n",
    "a = np.array([2,3,1,2,3])\n",
    "a.tolist()"
   ]
  },
  {
   "cell_type": "code",
   "execution_count": 30,
   "metadata": {},
   "outputs": [
    {
     "data": {
      "text/plain": [
       "tensor([1, 3])"
      ]
     },
     "execution_count": 30,
     "metadata": {},
     "output_type": "execute_result"
    }
   ],
   "source": [
    "torch.as_tensor(np.arange(4)[np.random.binomial(1, 0.5, size=4) == 1], dtype=torch.long)"
   ]
  },
  {
   "cell_type": "code",
   "execution_count": 32,
   "metadata": {},
   "outputs": [
    {
     "name": "stdout",
     "output_type": "stream",
     "text": [
      "tensor([[0, 1, 2, 4],\n",
      "        [1, 2, 4, 3],\n",
      "        [2, 4, 2, 4],\n",
      "        [3, 1, 0, 1],\n",
      "        [4, 3, 1, 0]])\n"
     ]
    }
   ],
   "source": [
    "from torch_cluster import random_walk\n",
    "\n",
    "row = torch.tensor([0, 1, 1, 1, 2, 2, 3, 3, 4, 4])\n",
    "col = torch.tensor([1, 0, 2, 3, 1, 4, 1, 4, 2, 3])\n",
    "start = torch.tensor([0, 1, 2, 3, 4])\n",
    "\n",
    "walk = random_walk(row, col, start, walk_length=3)\n",
    "print(walk)"
   ]
  },
  {
   "cell_type": "code",
   "execution_count": 44,
   "metadata": {},
   "outputs": [
    {
     "name": "stdout",
     "output_type": "stream",
     "text": [
      "tensor([[1, 2, 3, 3, 3],\n",
      "        [2, 1, 4, 4, 5]])\n",
      "tensor([1, 2, 3, 3])\n",
      "tensor([2, 3, 3, 3])\n"
     ]
    }
   ],
   "source": [
    "b = torch.tensor([[1,2,3,3,3],[2,1,4,4,5]])\n"
   ]
  },
  {
   "cell_type": "code",
   "execution_count": 53,
   "metadata": {},
   "outputs": [
    {
     "data": {
      "text/plain": [
       "1"
      ]
     },
     "execution_count": 53,
     "metadata": {},
     "output_type": "execute_result"
    }
   ],
   "source": [
    "b = np.array([[1,2,3,4,5],[2,3,4,5,6]])\n",
    "np.where((b[0, :] == 2) & (b[1, :] == 3))[0][0]"
   ]
  },
  {
   "cell_type": "code",
   "execution_count": 2,
   "metadata": {},
   "outputs": [],
   "source": []
  },
  {
   "cell_type": "code",
   "execution_count": 14,
   "metadata": {},
   "outputs": [],
   "source": [
    "data = bitcoin.BitcoinOTC()"
   ]
  },
  {
   "cell_type": "code",
   "execution_count": 15,
   "metadata": {},
   "outputs": [
    {
     "name": "stdout",
     "output_type": "stream",
     "text": [
      "tensor([   0,    1,    3,  ..., 5994, 5995, 5998])\n",
      "tensor([    0,     1,     2,  ..., 35589, 35590, 35591])\n"
     ]
    }
   ],
   "source": [
    "sample_str = 'random-walk'\n",
    "sample_args = {'start_num': 5, 'walk_length': 50}\n",
    "print(data.nodes_pos_degree_mask)\n",
    "print(data.edges_pos_degree_mask)"
   ]
  },
  {
   "cell_type": "code",
   "execution_count": 4,
   "metadata": {},
   "outputs": [
    {
     "data": {
      "text/plain": [
       "4791"
      ]
     },
     "execution_count": 4,
     "metadata": {},
     "output_type": "execute_result"
    }
   ],
   "source": [
    "len(data.pos_degree_mask)"
   ]
  },
  {
   "cell_type": "code",
   "execution_count": 14,
   "metadata": {},
   "outputs": [],
   "source": [
    "%load_ext autoreload\n",
    "%autoreload 1\n",
    "%aimport bitcoin"
   ]
  },
  {
   "cell_type": "code",
   "execution_count": 16,
   "metadata": {},
   "outputs": [],
   "source": [
    "import torch\n",
    "import numpy as np\n",
    "from torch_cluster import random_walk\n",
    "\n",
    "data = bitcoin.BitcoinOTC()"
   ]
  },
  {
   "cell_type": "code",
   "execution_count": 276,
   "metadata": {},
   "outputs": [
    {
     "name": "stdout",
     "output_type": "stream",
     "text": [
      "tensor([3206, 1049, 4300, 3665, 4748])\n"
     ]
    },
    {
     "ename": "IndexError",
     "evalue": "index 0 is out of bounds for dimension 0 with size 0",
     "output_type": "error",
     "traceback": [
      "\u001b[1;31m---------------------------------------------------------------------------\u001b[0m",
      "\u001b[1;31mIndexError\u001b[0m                                Traceback (most recent call last)",
      "\u001b[1;32m<ipython-input-276-798e63d3abe1>\u001b[0m in \u001b[0;36m<module>\u001b[1;34m\u001b[0m\n\u001b[0;32m     42\u001b[0m     \u001b[0mb\u001b[0m \u001b[1;33m=\u001b[0m \u001b[1;33m(\u001b[0m\u001b[0mdata\u001b[0m\u001b[1;33m.\u001b[0m\u001b[0medge_index\u001b[0m\u001b[1;33m[\u001b[0m\u001b[1;36m0\u001b[0m\u001b[1;33m,\u001b[0m \u001b[1;33m:\u001b[0m\u001b[1;33m]\u001b[0m \u001b[1;33m==\u001b[0m \u001b[0medge_list\u001b[0m\u001b[1;33m[\u001b[0m\u001b[1;36m0\u001b[0m\u001b[1;33m,\u001b[0m \u001b[0mi\u001b[0m\u001b[1;33m]\u001b[0m\u001b[1;33m)\u001b[0m \u001b[1;33m&\u001b[0m \u001b[1;33m(\u001b[0m\u001b[0mdata\u001b[0m\u001b[1;33m.\u001b[0m\u001b[0medge_index\u001b[0m\u001b[1;33m[\u001b[0m\u001b[1;36m1\u001b[0m\u001b[1;33m,\u001b[0m \u001b[1;33m:\u001b[0m\u001b[1;33m]\u001b[0m \u001b[1;33m==\u001b[0m \u001b[0medge_list\u001b[0m\u001b[1;33m[\u001b[0m\u001b[1;36m1\u001b[0m\u001b[1;33m,\u001b[0m \u001b[0mi\u001b[0m\u001b[1;33m]\u001b[0m\u001b[1;33m)\u001b[0m\u001b[1;33m\u001b[0m\u001b[1;33m\u001b[0m\u001b[0m\n\u001b[0;32m     43\u001b[0m     \u001b[0ma\u001b[0m \u001b[1;33m=\u001b[0m \u001b[0mtorch\u001b[0m\u001b[1;33m.\u001b[0m\u001b[0mwhere\u001b[0m\u001b[1;33m(\u001b[0m\u001b[0mb\u001b[0m\u001b[1;33m)\u001b[0m\u001b[1;33m[\u001b[0m\u001b[1;36m0\u001b[0m\u001b[1;33m]\u001b[0m\u001b[1;33m\u001b[0m\u001b[1;33m\u001b[0m\u001b[0m\n\u001b[1;32m---> 44\u001b[1;33m     \u001b[0medge_ind\u001b[0m\u001b[1;33m[\u001b[0m\u001b[0mi\u001b[0m\u001b[1;33m]\u001b[0m \u001b[1;33m=\u001b[0m \u001b[0ma\u001b[0m\u001b[1;33m[\u001b[0m\u001b[1;36m0\u001b[0m\u001b[1;33m]\u001b[0m\u001b[1;33m\u001b[0m\u001b[1;33m\u001b[0m\u001b[0m\n\u001b[0m\u001b[0;32m     45\u001b[0m \u001b[1;33m\u001b[0m\u001b[0m\n\u001b[0;32m     46\u001b[0m \u001b[0mprint\u001b[0m\u001b[1;33m(\u001b[0m\u001b[0medge_ind\u001b[0m\u001b[1;33m)\u001b[0m\u001b[1;33m\u001b[0m\u001b[1;33m\u001b[0m\u001b[0m\n",
      "\u001b[1;31mIndexError\u001b[0m: index 0 is out of bounds for dimension 0 with size 0"
     ]
    }
   ],
   "source": [
    "start_num = 5\n",
    "walk_length = 60\n",
    "\n",
    "start_loc = torch.as_tensor(\n",
    "    np.random.choice(data.nodes_pos_degree_mask.numpy(), size=start_num, replace=False),\n",
    "    dtype=torch.long\n",
    ")\n",
    "print(start_loc)\n",
    "\n",
    "# Perform random walks; note that walks has shape\n",
    "# [start_num, walk_length + 1]\n",
    "\n",
    "row_new = data.edge_index[0, data.edges_pos_degree_mask]\n",
    "col_new = data.edge_index[1, data.edges_pos_degree_mask]\n",
    "\n",
    "_, perm = torch.sort(row_new*data.num_nodes + col_new)\n",
    "row_new, col_new = row_new[perm], col_new[perm]\n",
    "\n",
    "walks = random_walk(row=row_new,\n",
    "                    col=col_new,\n",
    "                    start=start_loc,\n",
    "                    num_nodes=data.num_nodes,\n",
    "                    walk_length=walk_length)\n",
    "\n",
    "# Convert into edge list\n",
    "edge_list = torch.zeros(size=(2, start_num*walk_length),\n",
    "                        dtype=torch.long)\n",
    "\n",
    "for i in range(start_num):\n",
    "    ind = i*walk_length + np.arange(walk_length)\n",
    "    ind = list(ind)\n",
    "    edge_list[0, ind] = walks[i, :-1]\n",
    "    edge_list[1, ind] = walks[i, 1:]\n",
    "    \n",
    "# Extract nodes and the indices of edge_list with respect to\n",
    "# self.edge_index\n",
    "node_ind = torch.unique(edge_list)\n",
    "\n",
    "edge_ind = torch.zeros(size=[edge_list.shape[1]], dtype=torch.long)\n",
    "\n",
    "for i in range(edge_list.shape[1]):\n",
    "    b = (data.edge_index[0, :] == edge_list[0, i]) & (data.edge_index[1, :] == edge_list[1, i])\n",
    "    a = torch.where(b)[0]\n",
    "    edge_ind[i] = a[0]\n",
    "    \n",
    "print(edge_ind)"
   ]
  },
  {
   "cell_type": "code",
   "execution_count": 94,
   "metadata": {},
   "outputs": [
    {
     "name": "stdout",
     "output_type": "stream",
     "text": [
      "{'node_ind': tensor([   6,   34,   40,   95,  149,  303,  435,  519,  734,  797,  831,  861,\n",
      "         867,  934, 1033, 1160, 1216, 1347, 1395, 1457, 1554, 1561, 1621, 2062,\n",
      "        2084, 2088, 2223, 2261, 2298, 2304, 2457, 2641, 2724, 2816, 3201, 3597,\n",
      "        3652, 3653, 3736, 3804, 3874, 4087, 4196, 4314, 4458]), 'edge_ind': tensor([ 6508, 34397,  7241, 20290,  6086,  3659, 10310, 11728,  2043,  3610,\n",
      "         3810,  3575,  4326,  3617,  3576,  7777, 32423,  5001,  6694,  7529,\n",
      "        16576,  6682,  7334,  6695,  7569, 35363, 10738, 10278, 12065, 12046,\n",
      "        12097, 22026, 11778, 11964, 12716, 17505, 16936, 15446, 16512, 16937,\n",
      "        18310, 12715, 19962, 19449, 20510, 20294, 23033, 29604, 24448]), 'edge_list': tensor([[   6,   34,   34,   34,   40,  149,  303,  435,  519,  734,  797,  831,\n",
      "          831,  861,  867,  934, 1033, 1160, 1216, 1216, 1216, 1347, 1395, 1457,\n",
      "         1554, 2062, 2084, 2088, 2223, 2223, 2261, 2261, 2298, 2304, 2457, 2641,\n",
      "         2641, 2724, 2816, 3201, 3597, 3597, 3652, 3653, 3736, 3804, 3874, 4196,\n",
      "         4458],\n",
      "        [ 934,   95, 1395, 3804,    6,  734, 2084, 2298,  149,  861,  831,  867,\n",
      "         1033,  797,  831, 1561, 4314,  519, 1457, 1621, 2816, 1457,   40, 1216,\n",
      "         1347, 4196, 2088,   34, 2261, 2304, 2223, 4087,   34, 2223, 3597, 2724,\n",
      "         3201, 2261, 1216, 2641, 2062, 2457, 1554, 3652,  435,   34, 3597,  303,\n",
      "         2641]])}\n"
     ]
    }
   ],
   "source": [
    "subsample_dict = {'node_ind': node_ind, 'edge_ind': edge_ind,\n",
    "                  'edge_list': edge_list}\n",
    "\n",
    "print(subsample_dict)"
   ]
  },
  {
   "cell_type": "code",
   "execution_count": 97,
   "metadata": {},
   "outputs": [
    {
     "name": "stdout",
     "output_type": "stream",
     "text": [
      "{'node_ind': tensor([   0,    3,    6,   16,   18,   34,   40,   55,   56,   59,  103,  134,\n",
      "         140,  142,  143,  170,  180,  208,  213,  215,  226,  229,  246,  379,\n",
      "         395,  400,  416,  461,  473,  492,  494,  521,  522,  534,  544,  545,\n",
      "         575,  591,  629,  646,  651,  686,  708,  713,  728,  734,  756,  766,\n",
      "         792,  793,  845,  855,  861,  881,  907,  921,  927,  985, 1008, 1012,\n",
      "        1017, 1047, 1093, 1118, 1244, 1266, 1316, 1333, 1351, 1362, 1393, 1395,\n",
      "        1411, 1501, 1554, 1561, 1564, 1565, 1574, 1582, 1583, 1584, 1618, 1636,\n",
      "        1638, 1692, 1713, 1724, 1734, 1753, 1801, 1809, 1818, 1839, 1893, 1898,\n",
      "        1899, 1952, 1976, 1977, 2016, 2018, 2027, 2044, 2066, 2134, 2158, 2279,\n",
      "        2290, 2295, 2305, 2321, 2343, 2484, 2485, 2502, 2634, 2641, 2657, 2680,\n",
      "        2709, 2724, 2726, 2727, 2777, 2847, 2857, 2859, 2867, 2873, 2908, 2909,\n",
      "        2933, 2979, 3001, 3017, 3145, 3173, 3184, 3218, 3220, 3226, 3253, 3282,\n",
      "        3365, 3403, 3464, 3466, 3544, 3597, 3619, 3629, 3645, 3648, 3712, 3734,\n",
      "        3743, 3756, 3758, 3785, 3827, 3853, 3891, 3892, 3896, 3903, 3915, 3925,\n",
      "        3987, 4003, 4035, 4074, 4106, 4113, 4117, 4126, 4135, 4138, 4158, 4171,\n",
      "        4196, 4299, 4370, 4648, 4687, 4742, 4750, 5026, 5027, 5028, 5064, 5434,\n",
      "        5471, 5509, 5528, 5629]), 'edge_ind': tensor([ 4992,   740,  5482,   323,    60, 22506,  5673,  3577,  9173,  9618,\n",
      "        17467,  8363,   385, 17094, 22659,   250, 34256, 10991, 14775,  2455,\n",
      "         1727,   497,  3661,   498,  5054,  4827,  6335, 16607,  2980,  3341,\n",
      "         1315,   741,  1261,  2797,  1664,  2899,  3362,  2238,  4814,  2240,\n",
      "        16548,  2982,  6904,  7966,  3619, 34459,  5077,  4686, 12345,  2447,\n",
      "         3178,  2542,  3469,  3518,  2894,  5590,  6518,  5766,  5712,  5606,\n",
      "         3103,  3238,  3340,  3237,  3353,  3240,  3239,  3485, 16798, 21238,\n",
      "         3609,  9004,  3873,  6609,  4386,  5767,  4389,  4401, 22158, 14532,\n",
      "        34481, 19605, 23426,  5053,  4392,  4826,  8326, 22115,  8319,  6608,\n",
      "        28066, 14137,  7617, 29051,  6255, 15349,  8122,  7316,  8128,  8314,\n",
      "        35312,  7506,  7697,  7802,  7504,  7743,  7344, 12962,  7637,  7505,\n",
      "         7614, 22455, 13115,  8435, 10450,  8364,  8266, 12872, 18474, 31983,\n",
      "         9088, 11533, 16771, 17713, 11578, 18170, 17083,  8679, 18029, 15981,\n",
      "        16842,  9222, 15558,  9626,  9744, 13398, 20101, 17777, 14301, 15697,\n",
      "        17054, 20051, 12969, 34271, 32500, 17289, 10809, 10701, 11534, 17788,\n",
      "        14496, 22278, 26427, 12457, 14146, 15053, 12873, 12978, 14057, 17605,\n",
      "        32792, 14145, 17566, 17308, 16595, 14310, 18648, 14638, 15120, 15086,\n",
      "        15940, 15325, 15399, 17133, 15699, 20619, 19302, 17066, 16799, 22934,\n",
      "        21772, 17070, 17085, 17488, 28095, 17920, 18145, 22392, 18834, 18481,\n",
      "        22390, 35297, 33261, 19749, 22100, 22501, 26765, 21100, 20609, 20005,\n",
      "        24967, 24966, 20021, 20048, 20202, 32797, 23357, 22123, 33226, 26007,\n",
      "        22189, 22827, 24308, 33060, 21619, 21306, 21997, 21955, 34229, 22095,\n",
      "        22407, 22942, 22805, 21967, 33032, 22335, 28551, 30857, 22804, 32509,\n",
      "        24671, 23427, 28555, 26265, 26737, 26394, 26405, 29048, 31511, 29016,\n",
      "        32006, 32644, 32469, 35525, 33544, 33150]), 'edge_list': tensor([[   0,    0,    3,    6,   16,   18,   34,   34,   34,   34,   34,   40,\n",
      "           55,   56,   56,   59,  103,  134,  140,  142,  143,  143,  170,  180,\n",
      "          208,  208,  208,  213,  215,  226,  229,  246,  379,  395,  400,  416,\n",
      "          416,  461,  461,  473,  492,  494,  521,  522,  534,  544,  545,  575,\n",
      "          591,  629,  646,  651,  686,  686,  708,  713,  728,  728,  728,  734,\n",
      "          756,  756,  766,  766,  792,  792,  793,  845,  855,  855,  861,  881,\n",
      "          907,  921,  927,  985, 1008, 1012, 1017, 1017, 1017, 1017, 1017, 1047,\n",
      "         1047, 1118, 1244, 1266, 1316, 1316, 1333, 1351, 1362, 1393, 1395, 1411,\n",
      "         1501, 1554, 1561, 1564, 1564, 1565, 1565, 1565, 1565, 1574, 1582, 1583,\n",
      "         1584, 1618, 1636, 1638, 1692, 1692, 1713, 1713, 1724, 1724, 1734, 1734,\n",
      "         1753, 1801, 1801, 1801, 1809, 1809, 1809, 1818, 1839, 1893, 1898, 1899,\n",
      "         1952, 1976, 1977, 2016, 2018, 2027, 2027, 2027, 2027, 2027, 2044, 2044,\n",
      "         2044, 2066, 2134, 2158, 2279, 2290, 2295, 2305, 2321, 2343, 2484, 2484,\n",
      "         2485, 2502, 2634, 2641, 2657, 2680, 2709, 2724, 2724, 2726, 2727, 2777,\n",
      "         2847, 2867, 2873, 2908, 2909, 2933, 2979, 3001, 3017, 3145, 3173, 3184,\n",
      "         3218, 3220, 3226, 3253, 3282, 3365, 3403, 3403, 3464, 3466, 3544, 3597,\n",
      "         3597, 3619, 3629, 3645, 3648, 3712, 3734, 3743, 3743, 3743, 3756, 3758,\n",
      "         3785, 3827, 3853, 3891, 3892, 3896, 3903, 3915, 3925, 3987, 4003, 4035,\n",
      "         4074, 4106, 4113, 4117, 4126, 4135, 4138, 4158, 4171, 4171, 4171, 4171,\n",
      "         4171, 4196, 4299, 4370, 4648, 4687, 4742, 4742, 4750, 5026, 5027, 5028,\n",
      "         5064, 5434, 5471, 5509, 5528, 5629],\n",
      "        [  59,  246,  907,  140,    0, 3743,  379,  861, 1899, 1976, 3282, 1561,\n",
      "            6, 1244, 3464,   55, 3987,  728, 2777,  395,   56,  180,  713,  143,\n",
      "         1047, 1118, 1266, 2724,  651,  766,  400,    0,  142,  629,  143,  708,\n",
      "          792,  473,  575,  461,  416,  213,  756, 1565,  522, 2044,   18,  103,\n",
      "         1818,  494,    0,  461,  215,  855,  416,  921,  881,  985, 1093,  845,\n",
      "          646,  793,  226,  792,  686,  766,  756,  686, 3173, 3743,  734, 1584,\n",
      "          927, 1316, 1012,  728, 1047, 1047,   16,   40, 2305, 3645, 4370,  208,\n",
      "         1008,  208, 1753, 1809,  534,  921, 4171, 1564, 1638, 5028,  521, 2908,\n",
      "         1713, 1574, 1554, 1582, 4171,    3, 1393, 1395, 1618, 1565, 1565, 2044,\n",
      "         1636, 1565,  545, 3925,  170,  591, 1692, 1734,  544, 2485, 1692, 5064,\n",
      "         1316, 2279, 2290, 3597, 1801, 2066, 3226, 1713, 1564, 2484, 3184, 1893,\n",
      "         2909, 1977, 1839, 1801, 1809, 2709, 2726, 2979, 3220, 3758, 1583, 4299,\n",
      "         5471,  229, 2027, 2134, 1801, 1017, 1017, 2343, 4687, 1898, 2680, 2857,\n",
      "         1724, 2485, 2158,  728, 2027, 2484, 3253, 2657, 3001, 2027, 2027,   56,\n",
      "         2867, 2724, 2634,   34, 2873, 2847, 2027,   34, 3619, 1809,  855, 3915,\n",
      "         3712, 3145,   34, 2295, 2321, 1333, 2641, 3903, 1411, 3365, 3403, 3892,\n",
      "         5528, 1952, 4035, 3827,  134, 1017, 2859,  492, 1362, 3785, 2016, 3756,\n",
      "         3743, 5629, 4106, 3853, 5509, 4135, 3403, 4113, 2727, 4171, 3218, 3597,\n",
      "         3017, 4158, 4648, 1017,   34, 3734, 4171, 1501, 2044, 3891, 4003, 4074,\n",
      "         4138, 4117,   34, 1017, 3544, 4742, 3896, 4750, 4742, 5027, 3629, 5026,\n",
      "         1734, 2933, 4196, 1351, 3648, 4171]])}\n"
     ]
    }
   ],
   "source": [
    "data = bitcoin.BitcoinOTC()\n",
    "\n",
    "sample_str = 'random-walk'\n",
    "sample_args = {'start_num': 5, 'walk_length': 50}\n",
    "\n",
    "test = data.subsample(sample_str=sample_str, sample_args=sample_args)\n",
    "print(test)"
   ]
  },
  {
   "cell_type": "code",
   "execution_count": 98,
   "metadata": {},
   "outputs": [
    {
     "name": "stdout",
     "output_type": "stream",
     "text": [
      "{'node_ind': tensor([   1,    5,    6,    9,   12,   20,   22,   27,   31,   34,   40,   59,\n",
      "          60,   61,   63,   87,  103,  108,  109,  131,  140,  141,  142,  143,\n",
      "         148,  158,  161,  162,  163,  197,  200,  205,  208,  228,  232,  256,\n",
      "         265,  267,  272,  281,  295,  296,  299,  305,  324,  349,  409,  416,\n",
      "         418,  442,  451,  455,  458,  483,  487,  498,  500,  522,  533,  534,\n",
      "         557,  569,  570,  584,  591,  605,  617,  624,  646,  653,  686,  713,\n",
      "         778,  779,  792,  804,  831,  881,  896,  922,  924,  952,  962,  966,\n",
      "        1004, 1017, 1043, 1047, 1049, 1097, 1145, 1184, 1200, 1212, 1219, 1251,\n",
      "        1314, 1316, 1365, 1395, 1399, 1486, 1519, 1554, 1555, 1564, 1565, 1584,\n",
      "        1585, 1590, 1610, 1628, 1633, 1692, 1730, 1742, 1809, 1884, 1947, 1952,\n",
      "        1966, 2016, 2027, 2033, 2044, 2066, 2069, 2070, 2071, 2075, 2084, 2103,\n",
      "        2108, 2109, 2143, 2166, 2172, 2261, 2305, 2377, 2387, 2598, 2613, 2617,\n",
      "        2683, 2715, 2754, 2762, 2807, 2821, 2859, 2872, 2891, 2941, 3037, 3068,\n",
      "        3069, 3112, 3128, 3207, 3300, 3359, 3404, 3581, 3659, 3734, 3743, 3780,\n",
      "        3803, 3909, 4101, 4106, 4121, 4171, 4196, 4307, 4313, 4314, 4598, 4668,\n",
      "        4680, 4682, 4687, 4742, 5090, 5226, 5403]), 'edge_ind': tensor([    7,   820,  1088,  3988,    17, 10176, 22940,    11,  2386,   133,\n",
      "         5222, 13693,  6578,  7241, 10407, 13654, 35441, 21685, 29436,   218,\n",
      "          387,  1197, 27604, 25121,   776,  3446,  1067,  2206,  2153,   605,\n",
      "          217,  4487,   298,   334,   389,   491,   413,  4550,   333,   481,\n",
      "          364,  4355,  3876,  1370,  2301,  2346,   414,   416,  1759,   789,\n",
      "         2146,   579,   681,   893, 12888,   975,   942,   682,  2041, 10672,\n",
      "         3092,  3803,  2235,   977,   895,   972,  1099,   943,  2485,   973,\n",
      "         2717,  1117,  1334,  1337,  6517,  3300,  1488,  1546,  1561,  3075,\n",
      "         1562,  1563,  4849,  2209,  4500,  1789,  3383,  3705, 17226,  2177,\n",
      "         4895,  2214,  5206, 21580, 16918, 20810,  2387, 30317,  2741,  3536,\n",
      "         2742,  3354,  3551,  3440,  3310,  3422,  3359,  3878,  4264,  4377,\n",
      "         9109,  3922,  5461,  4226,  4059, 19939,  4030,  4390,  4259, 10494,\n",
      "         5053,  4540,  4894,  6753, 10752,  5537,  5237,  5774,  5754,  7351,\n",
      "        13214,  6656, 11796, 10254,  7865,  7224,  7554,  8721, 26368,  7964,\n",
      "         7761,  7699,  7361,  8295, 15743,  7948,  7666, 26827, 28405, 16720,\n",
      "        17886,  9607, 35522, 15203, 20013, 15280, 16255, 15749, 15550, 16046,\n",
      "        16194, 23065, 31053, 10740,  9909, 14998, 14249, 19926, 19957, 11557,\n",
      "        15618, 14294, 17576, 10177, 11217, 15796, 10255, 10379, 10383, 10472,\n",
      "        21579, 28482, 10620, 28266, 14092, 25424, 24373, 21991, 18843, 14314,\n",
      "        31376, 14793, 14049, 16972, 18919, 16849, 15357, 33392, 15061, 15348,\n",
      "        16153, 23789, 16054, 16254, 16195, 17430, 27087, 17690, 17578, 17895,\n",
      "        22762, 19927, 20452, 21071, 19996, 20004, 22416, 35442, 33619, 20919,\n",
      "        21744, 25838, 21992, 32680, 27159, 23066, 28882, 33013, 25122, 26278,\n",
      "        25719, 25791, 26265, 26280, 30029, 30432, 31741]), 'edge_list': tensor([[   1,    5,    6,    6,    9,   12,   12,   20,   20,   22,   22,   27,\n",
      "           31,   34,   34,   34,   34,   34,   34,   40,   40,   40,   40,   40,\n",
      "           59,   60,   61,   63,   87,  103,  108,  108,  109,  109,  131,  131,\n",
      "          131,  140,  141,  142,  143,  143,  143,  148,  158,  158,  161,  162,\n",
      "          162,  163,  197,  200,  205,  205,  208,  228,  228,  232,  256,  265,\n",
      "          267,  267,  272,  281,  281,  281,  295,  296,  299,  305,  324,  349,\n",
      "          409,  409,  416,  418,  442,  442,  442,  451,  455,  458,  483,  487,\n",
      "          498,  500,  522,  533,  534,  557,  569,  570,  570,  584,  591,  605,\n",
      "          617,  624,  646,  653,  686,  686,  713,  778,  779,  779,  792,  804,\n",
      "          831,  831,  881,  896,  922,  924,  952,  962,  966, 1004, 1017, 1043,\n",
      "         1047, 1049, 1097, 1184, 1200, 1212, 1219, 1251, 1314, 1316, 1365, 1395,\n",
      "         1399, 1399, 1486, 1519, 1554, 1555, 1564, 1565, 1565, 1584, 1585, 1590,\n",
      "         1610, 1628, 1633, 1692, 1730, 1742, 1742, 1809, 1809, 1884, 1947, 1952,\n",
      "         1952, 1952, 1952, 1952, 1952, 1952, 1952, 1966, 2016, 2027, 2044, 2044,\n",
      "         2044, 2066, 2069, 2069, 2069, 2070, 2071, 2075, 2084, 2084, 2103, 2108,\n",
      "         2109, 2109, 2143, 2166, 2172, 2261, 2305, 2377, 2387, 2598, 2613, 2617,\n",
      "         2683, 2715, 2754, 2762, 2807, 2821, 2859, 2872, 2891, 2941, 3037, 3068,\n",
      "         3069, 3112, 3128, 3207, 3300, 3359, 3404, 3581, 3659, 3734, 3743, 3743,\n",
      "         3780, 3803, 3803, 3909, 4101, 4106, 4121, 4196, 4307, 4313, 4314, 4314,\n",
      "         4598, 4668, 4680, 4682, 4687, 4742, 5090, 5226, 5403],\n",
      "        [  20,  267,  295,  962,    5, 2070, 2617,    9,  617,   31, 1219,   34,\n",
      "         1200, 1395, 2108, 2613, 3803, 4101, 5090,  109,  131,  256, 4196, 4598,\n",
      "           87,  108,  324,  487,  557,  148,    6, 1049,   40,  141,   40,  158,\n",
      "          161,  483,  131,  143,  109,  778,  804,   63,  584,  605,  131,   40,\n",
      "          163,  162,  500,  205,  232,  281, 2305,   59,  296,  205,  228, 2033,\n",
      "           61,  299,  158,  143,  205,  305,    6,  228,  267,  281,  653,  265,\n",
      "          197,  200, 1004,  779,  409,  455,  458,  713,  442,  442,  686,   63,\n",
      "          831,  442,    1,  896, 1365,  442, 1145,  569, 1212, 2109, 2387, 3734,\n",
      "           20, 3909,  686,  831,  646,  792,  533,  349,  418,  498,  416,  143,\n",
      "          952, 1043, 1692,  534,  591,  966,  922, 3659,  272, 1047,  924, 2066,\n",
      "          208,  108,  451, 1316, 2166,  570,   22, 1314,  881, 1519, 1730,  162,\n",
      "         2071, 2084, 1584, 1555, 1590, 1486, 4680,  522, 1251, 1628, 1565,   40,\n",
      "         2069,  103, 1565, 2821,  140,  142, 3359, 1399, 5226, 2143, 3743, 2075,\n",
      "         2377, 2762, 2859, 3037, 3068, 4313, 5403,   60, 1966,  779, 2715, 3581,\n",
      "         3743, 1633, 1610, 2598, 3300,   12, 1097, 2016, 1399, 2103, 2084,   34,\n",
      "          584, 1017, 1184, 4314, 2683, 2941, 2044, 4121, 3207, 1947, 1212,   27,\n",
      "         1952, 2891, 1554, 2069, 2872,   22, 1952, 1952, 1564, 2166, 1952, 1952,\n",
      "         1952,   34, 2754, 2261, 2069, 1742,   12, 2044, 2027, 3112, 1742, 2172,\n",
      "         2044,   34, 2016, 3780,   34, 4171, 4106, 3803, 3128, 1952, 1884, 4307,\n",
      "           40, 1809, 4682, 4687, 4742, 1809,   34,  624, 1952]])}\n"
     ]
    }
   ],
   "source": [
    "test = data.subsample(sample_str=sample_str, sample_args=sample_args)\n",
    "print(test)"
   ]
  },
  {
   "cell_type": "code",
   "execution_count": 108,
   "metadata": {},
   "outputs": [
    {
     "data": {
      "text/plain": [
       "Normal(loc: 0, scale: 2)"
      ]
     },
     "execution_count": 108,
     "metadata": {},
     "output_type": "execute_result"
    }
   ],
   "source": [
    "a = [0 for i in range(5)]\n",
    "a[0] = np.array([2,3,5])\n",
    "torch.distributions.Normal(torch.tensor(0), torch.tensor(2))"
   ]
  }
 ],
 "metadata": {
  "kernelspec": {
   "display_name": "Python 3",
   "language": "python",
   "name": "python3"
  },
  "language_info": {
   "codemirror_mode": {
    "name": "ipython",
    "version": 3
   },
   "file_extension": ".py",
   "mimetype": "text/x-python",
   "name": "python",
   "nbconvert_exporter": "python",
   "pygments_lexer": "ipython3",
   "version": "3.7.4"
  }
 },
 "nbformat": 4,
 "nbformat_minor": 4
}
